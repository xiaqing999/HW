{
 "cells": [
  {
   "cell_type": "markdown",
   "metadata": {},
   "source": [
    "# Project\n",
    "## First, I import the libraries, and extract the Most Actives ticker symbols.\n",
    "## Second, I use Regular Expressions to locate the OPEN price, PREV CLOSE price, and VOLUME, writing into csv file, which is required in the project version 1.0. \n",
    "## Third, I convert the csv file into txt file, which is required in the project version 2.0. By the way, I also write to SQLite database from the csv file. I did not use the code in slides in which write to SQLite database from txt file, since I met some errors and can not resolve for several hours.\n"
   ]
  },
  {
   "cell_type": "code",
   "execution_count": 1,
   "metadata": {},
   "outputs": [
    {
     "name": "stderr",
     "output_type": "stream",
     "text": [
      "C:\\Users\\hexiaqing\\Anaconda33\\lib\\site-packages\\pandas\\core\\generic.py:2130: UserWarning: The spaces in these column names will not be changed. In pandas versions < 0.14, spaces were converted to underscores.\n",
      "  dtype=dtype)\n"
     ]
    }
   ],
   "source": [
    "# Firstly, I need to import  libraries\n",
    "from urllib.request import urlopen\n",
    "import requests  # import requests library\n",
    "import re    #use regular expressions \n",
    "import csv\n",
    "\n",
    "        \n",
    "#extract the ticker symbols     \n",
    "cnnweb=\"https://money.cnn.com/data/hotstocks/\"\n",
    "hotstocks_handle = requests.get(cnnweb)\n",
    "hotstocks_text = hotstocks_handle.text\n",
    "\n",
    "active = hotstocks_text.find('Most Actives')\n",
    "gainer = hotstocks_text.find('Gainers')\n",
    "\n",
    "#finds Most Actives tickers \n",
    "most_actives_tickers = re.findall('.+class=\"wsod_symbol\">(.*)</a>',hotstocks_text[active:gainer])\n",
    "\n",
    "csv_file = [['Most Actives','Open price','Previous Close price','Volume']] # create the csv file, as required in the version 1.0\n",
    "\n",
    "\n",
    "for q in range(len(most_actives_tickers)):\n",
    "    csv_file.append([most_actives_tickers[q]])       #append the csv file \n",
    "    \n",
    "    \n",
    "# extract the stock ticker symbols and store them in a file or a list\n",
    "\n",
    "yahoo_web = 'https://finance.yahoo.com/quote/{myticker}?p={myticker}&.tsrc=fin-srch-v1'\n",
    "m=1\n",
    "for ticker in most_actives_tickers:        \n",
    "    mystock_handle=requests.get(yahoo_web.format(myticker = ticker))\n",
    "    mystock_text = mystock_handle.text      # get data from a  website  \n",
    "        \n",
    "    open_price = re.findall('OPEN-value\" data-reactid.*?>([0-9.]*)</span',mystock_text)   # use Regular Expressions to locate open price\n",
    "\n",
    "    prev_close_price = re.findall('PREV_CLOSE-value\" data-reactid.*?>([0-9.]*)</span',mystock_text)   # locate  PREV CLOSE price\n",
    "\n",
    "    volume = re.findall('VOLUME-value\" data-reactid.*?>([0-9.,]*)</span',mystock_text)          # locate VOLUME \n",
    "        \n",
    "    csv_file[m] = csv_file[m] + open_price + prev_close_price + volume   # store the required columns into the csv file\n",
    "    m = m+1\n",
    "    \n",
    "    \n",
    "with open('stocks.csv', 'w') as csvFile:\n",
    "    writer = csv.writer(csvFile)\n",
    "    writer.writerows(csv_file)\n",
    "csvFile.close()   \n",
    "\n",
    "\n",
    "# write the csv file to a txt file\n",
    "x='stocks.csv'\n",
    "filehandle = open(x,'r')\n",
    "#read all the lines in the csv file into a list called lines\n",
    "lines = filehandle.readlines()\n",
    "y='stocks.txt'\n",
    "filehandle2 = open(y,'w')\n",
    "filehandle2.writelines(lines)\n",
    "filehandle2.close()  # close the file\n",
    "\n",
    "\n",
    "# Write to SQLite database from a csv file. I did not use the code in slides writing into database from txt file, since I have tried and met errors which can not be solved for several hours \n",
    "import pandas\n",
    "import csv, sqlite3\n",
    "conn= sqlite3.connect(\"StocksDatabase.sqlite\")\n",
    "df = pandas.read_csv('stocks.csv')\n",
    "df.to_sql('StocksTable', conn, if_exists='append', index=False)\n",
    "\n"
   ]
  },
  {
   "cell_type": "code",
   "execution_count": null,
   "metadata": {},
   "outputs": [],
   "source": []
  }
 ],
 "metadata": {
  "kernelspec": {
   "display_name": "Python 3",
   "language": "python",
   "name": "python3"
  },
  "language_info": {
   "codemirror_mode": {
    "name": "ipython",
    "version": 3
   },
   "file_extension": ".py",
   "mimetype": "text/x-python",
   "name": "python",
   "nbconvert_exporter": "python",
   "pygments_lexer": "ipython3",
   "version": "3.7.0"
  }
 },
 "nbformat": 4,
 "nbformat_minor": 2
}
