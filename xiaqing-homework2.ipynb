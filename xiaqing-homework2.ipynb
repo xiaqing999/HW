{
 "cells": [
  {
   "cell_type": "markdown",
   "metadata": {},
   "source": [
    "### Question 1 \n",
    "Procedures of the answer: Firstly I define a list to describe the frequencies, and then generate 100 random integer numbers from 1 to 6, at last add the number of random integer numbers between 1 and 6 to the corresponding elements in the list."
   ]
  },
  {
   "cell_type": "code",
   "execution_count": 7,
   "metadata": {},
   "outputs": [
    {
     "name": "stdout",
     "output_type": "stream",
     "text": [
      "Number of 1s: 11\n",
      "Number of 2s: 13\n",
      "Number of 3s: 20\n",
      "Number of 4s: 20\n",
      "Number of 5s: 15\n",
      "Number of 6s: 21\n",
      "1 ***********\n",
      "2 *************\n",
      "3 ********************\n",
      "4 ********************\n",
      "5 ***************\n",
      "6 *********************\n"
     ]
    }
   ],
   "source": [
    "##Finished ###Question 1   Write a program that rolls a die 100 times and then tells you the number\n",
    "###                     of 1s, 2s, 3s,..and 6s. \n",
    "\n",
    "frequencies=[0,0,0,0,0,0]\n",
    "\n",
    "### generating 100 random integer numbers between 1-6\n",
    "import random\n",
    "for i in range(100):\n",
    "    x = random.randint(1,6)\n",
    "    for y in [1,2,3,4,5,6]:\n",
    "        if x==y:\n",
    "            frequencies[y-1]=frequencies[y-1]+1   ### add the number to the corresponding frequencies\n",
    "    \n",
    "    \n",
    "print(\"Number of 1s:\", frequencies[0])\n",
    "print(\"Number of 2s:\", frequencies[1])\n",
    "print(\"Number of 3s:\", frequencies[2])\n",
    "print(\"Number of 4s:\", frequencies[3])\n",
    "print(\"Number of 5s:\", frequencies[4])\n",
    "print(\"Number of 6s:\", frequencies[5])\n",
    "print(\"1\", frequencies[0]*\"*\")  ### provide a graphical display of the frequencies\n",
    "print(\"2\", frequencies[1]*\"*\")\n",
    "print(\"3\", frequencies[2]*\"*\")\n",
    "print(\"4\", frequencies[3]*\"*\")\n",
    "print(\"5\", frequencies[4]*\"*\")\n",
    "print(\"6\", frequencies[5]*\"*\")"
   ]
  },
  {
   "cell_type": "markdown",
   "metadata": {},
   "source": [
    "### Question 2\n",
    "Procedures of the answer: at first we convert the user's input to integer, and then generate a random integer number between 1 and 100 for the computer, write a while loop for iteration deciding if the random integer number is equal to the user's input. When the random integer number is not equal to the user's input, we add the iteration until the random integer number is equal to the input of user and then break of the while loop. "
   ]
  },
  {
   "cell_type": "code",
   "execution_count": 2,
   "metadata": {},
   "outputs": [
    {
     "name": "stdout",
     "output_type": "stream",
     "text": [
      "Enter a number(between 1 and 100, inclusive) to be guessed: 66\n",
      "You entered 66 and it took the program 51 iterations to guess\n"
     ]
    }
   ],
   "source": [
    "##Finished###Question 2\n",
    "###  a number guessing game\n",
    "\n",
    "import random\n",
    "\n",
    "x=input(\"Enter a number(between 1 and 100, inclusive) to be guessed: \")  \n",
    "##ask the number from the user\n",
    "\n",
    "try:\n",
    "    x=int(x)\n",
    "    if 0<x<101:\n",
    "        guess=random.randint(1,100)  ### generate random integer number betweem 1 and 100\n",
    "        count=1\n",
    "        while True:\n",
    "            if (x!=guess):\n",
    "                guess=random.randint(1,100)  ##generate another random integer number betweem 1 and 100\n",
    "                count=count+1  ## add the iteration\n",
    "                continue  ## go back to the beginning of the loop\n",
    "            else:\n",
    "                print(\"You entered\", x, \"and it took the program\", count, \"iterations to guess\")  \n",
    "                break  ## get out of the loop\n",
    "          \n",
    "            \n",
    "    else:\n",
    "        print(\"Please a number between 1 and 100, inclusive\")\n",
    "except:\n",
    "    print(\"Please an integer between 1 and 100, inclusive\")"
   ]
  },
  {
   "cell_type": "markdown",
   "metadata": {},
   "source": [
    "### Question 3\n",
    "Procedure of the answer: I use the input function to receive the user's input and use the try and except to debug the program. I should lower the case of the line and letter. I split the line into words, and use the function of startwith to find the first letter of each word. Using a for loop to generate a iteration to count the number of the letters as the first letter of the words in line."
   ]
  },
  {
   "cell_type": "code",
   "execution_count": 3,
   "metadata": {},
   "outputs": [
    {
     "name": "stdout",
     "output_type": "stream",
     "text": [
      "Enter your line of text:\n",
      "ckfghi\n",
      "Enter your letter to use: c\n",
      "Your letter c occurs as the first letter: 1 times\n"
     ]
    }
   ],
   "source": [
    "###Finished### Question 3\n",
    "line=input(\"Enter your line of text:\\n\")\n",
    "letter=input(\"Enter your letter to use: \")\n",
    "\n",
    "try:    ### in case of exception\n",
    "    line=line.lower()    ## lower the case sensitivity\n",
    "    letter=letter.lower()  ## lower the case sensitivity\n",
    "    if  len(letter)>1:   ## in case of more than one letter\n",
    "        print(\"You did not enter exactly one letter\")\n",
    "\n",
    "    else:\n",
    "        count=0\n",
    "         \n",
    "        \n",
    "    words = line.split()  ## split into words\n",
    "    \n",
    "    for x in words:\n",
    "        if x.startswith(letter): ## find the first letter in the words of the line\n",
    "        #if (x[0]==letter):   ##another way to catch the first letter\n",
    "            count=count+1   ## add the count\n",
    "    print(\"Your letter\", letter, \"occurs as the first letter:\", count, \"times\")\n",
    "   \n",
    "        \n",
    "except:   ## in case of the wrong \n",
    "    print(\"You did not enter one letter\")\n",
    "    "
   ]
  },
  {
   "cell_type": "markdown",
   "metadata": {},
   "source": [
    "#### Question 4\n",
    "Procedure of the answer: use the functions of input and lower to receive and lower the case of the input of user. use a for loop to iterate every character of s1 and use the find function to determine if all the characters in s1 are present in s2."
   ]
  },
  {
   "cell_type": "code",
   "execution_count": 9,
   "metadata": {},
   "outputs": [
    {
     "name": "stdout",
     "output_type": "stream",
     "text": [
      "please enter string s1: 236\n",
      "please enter string s2: 2\n",
      "s1 and s2 are NOT balanced\n"
     ]
    }
   ],
   "source": [
    "##Finished###Question 4   find if two given strings are balanced\n",
    "\n",
    "s1=input(\"please enter string s1: \")   ## request the first string from the user\n",
    "s2=input(\"please enter string s2: \")   ## request the second string from the user\n",
    "s1=s1.lower()  ## lower the case of the characters in s1\n",
    "s2=s2.lower()   ## lower the case of the characters in s2\n",
    "k = 0\n",
    "\n",
    "try:\n",
    "    for i in s1:\n",
    "        k = k+1  ## generate a iteration\n",
    "        if (s2.find(i) == -1):\n",
    "            print(\"s1 and s2 are NOT balanced\")   ###  if some of the characters in s1 are not present in s2\n",
    "            break   ### get out of the for loop\n",
    "        elif k < len(s1):   ## go through the whole length of s1\n",
    "            continue  ## go back to the beginning of the for loop\n",
    "        else:\n",
    "            print(\"s1 and s2 are  balanced\")  ###  all the characters in s1 are present in s2\n",
    "except:\n",
    "    print(\"there is something wrong\")\n"
   ]
  },
  {
   "cell_type": "markdown",
   "metadata": {},
   "source": [
    "### Question 5\n",
    "Procedure of the answer: use input to receive the filename, and define the initial value of the line, words and characters. use try and except to debug the program. use the for loop to count the number of lines in the premise of removeing the blanks. I split the line string into words and then count the number of words. I print the number of lines and words.\n",
    "\n",
    "Open the file again, use the for loop to count the characters and then get the average of length of a word. "
   ]
  },
  {
   "cell_type": "code",
   "execution_count": 8,
   "metadata": {},
   "outputs": [
    {
     "name": "stdout",
     "output_type": "stream",
     "text": [
      "What is the filename: robertfrost.txt\n",
      "Number of lines:  4\n",
      "Number of words:  27\n",
      "Number of characters:  103\n",
      "Average length of a word:  3.8\n"
     ]
    }
   ],
   "source": [
    "### Finished### Question 5  \n",
    "\n",
    "filename=input(\"What is the filename: \")   ### request a file name from the user\n",
    "count_line=0  ## inital value of lines\n",
    "count_word=0  ## inital value of words\n",
    "count_character=0  ## inital value of characters\n",
    "\n",
    "try:\n",
    "    text = open(filename,'r')  ### open the file \n",
    "    for line in text:\n",
    "        line=line.strip()      ### delete the blanks\n",
    "        words=line.split()  ### return a list of words\n",
    "        count_word=len(words)+count_word  ### add to the number of words\n",
    "        count_line=count_line+1   ### add to the number of lines\n",
    "        \n",
    "    print(\"Number of lines: \", count_line)\n",
    "    print(\"Number of words: \", count_word)\n",
    "    \n",
    "    text = open(filename,'r')  ### open the file again\n",
    "    for line in text:\n",
    "        for x in line:\n",
    "            if (x!=\" \" and x !='\\n' and x!='\\t'):   ### A character is  not a space (or white space)\n",
    "                count_character=count_character+1  ### add to the number of  characters\n",
    "    print(\"Number of characters: \", count_character)\n",
    "    print(\"Average length of a word: \", round((count_character/count_word),1))  ## keep only one decimal\n",
    "\n",
    "except:\n",
    "    print(\"please enter the correct file name\")   \n",
    "\n",
    "\n",
    "  \n"
   ]
  },
  {
   "cell_type": "code",
   "execution_count": null,
   "metadata": {},
   "outputs": [],
   "source": []
  }
 ],
 "metadata": {
  "kernelspec": {
   "display_name": "Python 3",
   "language": "python",
   "name": "python3"
  },
  "language_info": {
   "codemirror_mode": {
    "name": "ipython",
    "version": 3
   },
   "file_extension": ".py",
   "mimetype": "text/x-python",
   "name": "python",
   "nbconvert_exporter": "python",
   "pygments_lexer": "ipython3",
   "version": "3.7.0"
  }
 },
 "nbformat": 4,
 "nbformat_minor": 2
}
